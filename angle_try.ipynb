{
 "cells": [
  {
   "cell_type": "markdown",
   "metadata": {},
   "source": [
    "### Preliminary\n",
    "\n",
    "We want to know the angle($\\theta$) when throw a object with high velocity.\n",
    "\n",
    "Specific Orbital Energy $E=\\frac{v^2}{2}-\\frac{GM}{r}$\n",
    "\n",
    "Semi-major axis $a=-\\frac{GM}{2E}=-\\frac{GMr}{v^2r-2GM}$\n",
    "\n",
    "Specific relative angular momentum $h=rv\\cos(\\theta)$\n",
    "\n",
    "Eccentricity $e=\\sqrt{1+\\frac{2Eh^2}{(GM)^2}}=\\sqrt{1+\\frac{(rv^2-2GM)rv^2\\cos^2(\\theta)}{(GM)^2}}$\n",
    "\n",
    "We have: $r=\\frac{a(1-e^2)}{1+e\\cos\\nu}$\n",
    "\n",
    "$\\nu$ is True anomaly.\n",
    "\n",
    "Reorder: $\\cos\\nu=\\frac{a(1-e^2)-r}{er}=\\frac{-\\frac{1}{v^2r-2GM}\\frac{(2GM-rv^2)rv^2\\cos^2(\\theta)}{GM}-1}{e}$\n",
    "\n",
    "Because $0^\\circ \\le \\theta \\le 90^\\circ$, and $0^\\circ\\le\\nu\\le 90^\\circ$, So can directly use $\\cos(\\theta),\\cos(\\nu)$ to do derivation.\n",
    "\n",
    "To achieve maximum distance, we should let $\\nu$ be smallest. $\\frac{\\partial\\cos(\\nu)}{\\partial\\cos(\\theta)}=0$\n",
    "\n",
    "Solve that we get: $C_1=rv^3/GM,C_2=\\frac{(rv^2-2GM)rv^2}{(GM)^2}$\n",
    "\n",
    "So: $\\cos(\\theta)=\\sqrt{\\frac{-2C1+C2}{C1C2}}$\n",
    "\n",
    "4300@150km"
   ]
  },
  {
   "cell_type": "code",
   "execution_count": 1,
   "metadata": {},
   "outputs": [],
   "source": [
    "# constants\n",
    "G = 6.67430e-11\n",
    "M = 5.972e24\n",
    "R = 6371000\n",
    "GM = G*M"
   ]
  },
  {
   "cell_type": "code",
   "execution_count": 59,
   "metadata": {},
   "outputs": [],
   "source": [
    "import math\n",
    "\n",
    "def get_throw_result(v: float):\n",
    "    C1 = R*v*v / GM\n",
    "    C2 = (R*v*v-2*GM)*R*v*v/GM/GM\n",
    "\n",
    "    cosx = (-2*C1-C2)/(C1*C2)\n",
    "    theta = 0\n",
    "    nu = -1\n",
    "    if (0 < cosx < 1):\n",
    "        costheta = math.sqrt(cosx)\n",
    "        theta = math.acos(costheta)\n",
    "        nu = math.acos((C1*costheta*costheta-1)/(math.sqrt(1+C2*costheta*costheta)))\n",
    "    elif cosx < 0:\n",
    "        theta = math.pi/2\n",
    "\n",
    "    dis = math.inf\n",
    "    if nu != -1:\n",
    "        ra = 2*(math.pi-nu)\n",
    "        dis = R*ra\n",
    "    return theta, dis"
   ]
  },
  {
   "cell_type": "code",
   "execution_count": 73,
   "metadata": {},
   "outputs": [
    {
     "name": "stdout",
     "output_type": "stream",
     "text": [
      "angle:  35.24385558330361\n",
      "usefv:  4986.694703808344\n",
      "dista:  4339335.050993104\n",
      "\n",
      "angle:  37.81954831737991\n",
      "usefv:  4936.277539773352\n",
      "dista:  3193719.192494961\n",
      "\n",
      "angle:  38.00264789654439\n",
      "usefv:  4932.738927591145\n",
      "dista:  3112280.21539959\n",
      "\n",
      "angle:  38.01535038479085\n",
      "usefv:  4932.4936701399\n",
      "dista:  3106630.4064045036\n",
      "\n",
      "angle:  38.01623006526444\n",
      "usefv:  4932.476686543075\n",
      "dista:  3106239.1423815866\n",
      "\n",
      "velocity after cutoff:  4547.546586132911\n"
     ]
    }
   ],
   "source": [
    "v_ori = 5600*math.cos(math.pi/180*1.8)\n",
    "acc_time = 70+56\n",
    "\n",
    "iter_v = v_ori\n",
    "for _ in range(5):\n",
    "    theta, dis = get_throw_result(iter_v)\n",
    "    iter_v_y = v_ori*math.sin(theta)-(acc_time * GM/R/R)\n",
    "    iter_v_x = v_ori*math.cos(theta)\n",
    "    iter_v = math.sqrt(iter_v_x*iter_v_x+iter_v_y*iter_v_y)\n",
    "\n",
    "    print(\"angle: \", theta/math.pi*180)\n",
    "    print(\"usefv: \", iter_v)\n",
    "    print(\"dista: \", dis)\n",
    "    print()\n",
    "\n",
    "hh = 1/2*(iter_v*math.sin(theta)*acc_time)\n",
    "high_v = math.sqrt(2*(iter_v*iter_v/2-GM/R+GM/(R+hh)))\n",
    "print(\"velocity after cutoff: \", high_v)"
   ]
  }
 ],
 "metadata": {
  "kernelspec": {
   "display_name": "base",
   "language": "python",
   "name": "python3"
  },
  "language_info": {
   "codemirror_mode": {
    "name": "ipython",
    "version": 3
   },
   "file_extension": ".py",
   "mimetype": "text/x-python",
   "name": "python",
   "nbconvert_exporter": "python",
   "pygments_lexer": "ipython3",
   "version": "3.10.13"
  }
 },
 "nbformat": 4,
 "nbformat_minor": 2
}
