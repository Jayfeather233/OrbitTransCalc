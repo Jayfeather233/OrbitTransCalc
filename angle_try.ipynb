{
 "cells": [
  {
   "cell_type": "markdown",
   "metadata": {},
   "source": [
    "### Preliminary\n",
    "\n",
    "We want to know the angle($\\theta$) when throw a object with high velocity.\n",
    "\n",
    "Specific Orbital Energy $E=\\frac{v^2}{2}-\\frac{GM}{r}$\n",
    "\n",
    "Semi-major axis $a=-\\frac{GM}{2E}=-\\frac{GMr}{v^2r-2GM}$\n",
    "\n",
    "Specific relative angular momentum $h=rv\\cos(\\theta)$\n",
    "\n",
    "Eccentricity $e=\\sqrt{1+\\frac{2Eh^2}{(GM)^2}}=\\sqrt{1+\\frac{(rv^2-2GM)rv^2\\cos^2(\\theta)}{(GM)^2}}$\n",
    "\n",
    "We have: $r=\\frac{a(1-e^2)}{1+e\\cos\\nu}$\n",
    "\n",
    "$\\nu$ is True anomaly. And the distance we throw is $R*2(180-\\nu)$, $R$ is Earth radius.\n",
    "\n",
    "Reorder: $\\cos\\nu=\\frac{a(1-e^2)-r}{er}=\\frac{-\\frac{1}{v^2r-2GM}\\frac{(2GM-rv^2)rv^2\\cos^2(\\theta)}{GM}-1}{e}$\n",
    "\n",
    "Because $0^\\circ \\le \\theta \\le 90^\\circ$, and $0^\\circ\\le\\nu\\le 90^\\circ$, So can directly use $\\cos(\\theta),\\cos(\\nu)$ to do derivation.\n",
    "\n",
    "To achieve maximum distance, we should let $\\nu$ be smallest. $\\frac{\\partial\\cos(\\nu)}{\\partial\\cos(\\theta)}=0$\n",
    "\n",
    "Solve that we get:\n",
    "\n",
    "$\\cos(\\theta)=\\sqrt{\\frac{-2C_1-C_2}{C_1C_2}}$\n",
    "\n",
    "where: $C_1=\\frac{rv^3}{GM},C_2=\\frac{(rv^2-2GM)rv^2}{(GM)^2}$\n",
    "\n",
    "4300@150km"
   ]
  },
  {
   "cell_type": "code",
   "execution_count": 9,
   "metadata": {},
   "outputs": [],
   "source": [
    "import math\n",
    "# constants\n",
    "G = 6.67430e-11\n",
    "M = 5.972e24\n",
    "R = 6371000\n",
    "GM = G*M\n",
    "r2d = 180.0/math.pi # radius to degree"
   ]
  },
  {
   "cell_type": "code",
   "execution_count": 10,
   "metadata": {},
   "outputs": [],
   "source": [
    "def get_throw_result(v: float):\n",
    "    C1 = R*v*v / GM\n",
    "    C2 = (R*v*v-2*GM)*R*v*v/GM/GM\n",
    "\n",
    "    cosx = (-2*C1-C2)/(C1*C2)\n",
    "    theta = 0\n",
    "    nu = -1\n",
    "    if (0 < cosx < 1):\n",
    "        costheta = math.sqrt(cosx)\n",
    "        theta = math.acos(costheta)\n",
    "        nu = math.acos((C1*costheta*costheta-1)/(math.sqrt(1+C2*costheta*costheta)))\n",
    "    elif cosx < 0:\n",
    "        theta = math.pi/2\n",
    "\n",
    "    dis = math.inf\n",
    "    if nu != -1:\n",
    "        ra = 2*(math.pi-nu)\n",
    "        dis = R*ra\n",
    "    return theta, dis"
   ]
  },
  {
   "cell_type": "code",
   "execution_count": 22,
   "metadata": {},
   "outputs": [
    {
     "name": "stdout",
     "output_type": "stream",
     "text": [
      "angle:  38.03482497439135\n",
      "usefv:  4927.30330120239\n",
      "dista:  3097968.5041562472\n",
      "\n",
      "velocity after cutoff:  4542.18210394037\n",
      "height after cutoff:  191262.34551806326\n",
      "Maximum height:  673195.8559887363\n",
      "Horizontal speed:  4404.719055898294\n"
     ]
    }
   ],
   "source": [
    "v_ori = 5600 * math.cos(3/r2d)      # total dv * steering losses\n",
    "acc_time = 70+56                    # two stage burning time\n",
    "\n",
    "# because gravity will pull the angle down\n",
    "# so we need to raise up angle\n",
    "iter_v = v_ori\n",
    "for _ in range(10):\n",
    "    theta, dis = get_throw_result(iter_v)\n",
    "    iter_v_y = v_ori*math.sin(theta)-(acc_time * GM/R/R)\n",
    "    iter_v_x = v_ori*math.cos(theta)\n",
    "    iter_v = math.sqrt(iter_v_x*iter_v_x+iter_v_y*iter_v_y)\n",
    "\n",
    "print(\"angle: \", theta*r2d)\n",
    "print(\"usefv: \", iter_v)\n",
    "print(\"dista: \", dis)\n",
    "print()\n",
    "\n",
    "hh = 1/2*(iter_v*math.sin(theta)*acc_time)\n",
    "high_v = math.sqrt(2*(iter_v*iter_v/2-GM/R+GM/(R+hh)))\n",
    "print(\"velocity after cutoff: \", high_v)\n",
    "print(\"height after cutoff: \", hh)\n",
    "\n",
    "C2 = (R*iter_v*iter_v-2*GM)*R*iter_v*iter_v/GM/GM\n",
    "a = -GM*R/(iter_v*iter_v*R-2*GM)\n",
    "costheta = math.cos(theta)\n",
    "ecc = math.sqrt(1+C2*costheta*costheta)\n",
    "print(\"Maximum height: \", a*(1+ecc)-R)\n",
    "print(\"Horizontal speed: \", iter_v_x)\n",
    "# Be aware that this is the optimal answer that ignore\n",
    "# air drags and steering losses is an approximate value"
   ]
  }
 ],
 "metadata": {
  "kernelspec": {
   "display_name": "base",
   "language": "python",
   "name": "python3"
  },
  "language_info": {
   "codemirror_mode": {
    "name": "ipython",
    "version": 3
   },
   "file_extension": ".py",
   "mimetype": "text/x-python",
   "name": "python",
   "nbconvert_exporter": "python",
   "pygments_lexer": "ipython3",
   "version": "3.10.13"
  }
 },
 "nbformat": 4,
 "nbformat_minor": 2
}
